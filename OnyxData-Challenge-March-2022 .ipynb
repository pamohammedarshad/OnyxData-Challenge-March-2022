{
 "cells": [
  {
   "cell_type": "code",
   "execution_count": 1,
   "id": "6e1fe4d8",
   "metadata": {},
   "outputs": [],
   "source": [
    "import numpy as np\n",
    "import pandas as pd\n",
    "import seaborn as sns\n",
    "import matplotlib.pyplot as plt"
   ]
  },
  {
   "cell_type": "code",
   "execution_count": 2,
   "id": "a0bc4d45",
   "metadata": {},
   "outputs": [
    {
     "data": {
      "text/html": [
       "<div>\n",
       "<style scoped>\n",
       "    .dataframe tbody tr th:only-of-type {\n",
       "        vertical-align: middle;\n",
       "    }\n",
       "\n",
       "    .dataframe tbody tr th {\n",
       "        vertical-align: top;\n",
       "    }\n",
       "\n",
       "    .dataframe thead th {\n",
       "        text-align: right;\n",
       "    }\n",
       "</style>\n",
       "<table border=\"1\" class=\"dataframe\">\n",
       "  <thead>\n",
       "    <tr style=\"text-align: right;\">\n",
       "      <th></th>\n",
       "      <th>Order NO</th>\n",
       "      <th>Order Date</th>\n",
       "      <th>Month/Yr</th>\n",
       "      <th>Day of Week</th>\n",
       "      <th>Pie Flavor</th>\n",
       "      <th>Quantity</th>\n",
       "      <th>Cost</th>\n",
       "      <th>Slice Or Whole Pie</th>\n",
       "      <th>Pre-Order/In-Store Purchase</th>\n",
       "      <th>Organic?</th>\n",
       "    </tr>\n",
       "  </thead>\n",
       "  <tbody>\n",
       "    <tr>\n",
       "      <th>0</th>\n",
       "      <td>10001</td>\n",
       "      <td>19-12-2019</td>\n",
       "      <td>01-12-2019</td>\n",
       "      <td>Thursday</td>\n",
       "      <td>Apple</td>\n",
       "      <td>5</td>\n",
       "      <td>12.5</td>\n",
       "      <td>Slice</td>\n",
       "      <td>Pre-Order</td>\n",
       "      <td>No</td>\n",
       "    </tr>\n",
       "    <tr>\n",
       "      <th>1</th>\n",
       "      <td>10002</td>\n",
       "      <td>19-12-2019</td>\n",
       "      <td>01-12-2019</td>\n",
       "      <td>Thursday</td>\n",
       "      <td>Apple</td>\n",
       "      <td>3</td>\n",
       "      <td>60.0</td>\n",
       "      <td>Whole</td>\n",
       "      <td>In-Store</td>\n",
       "      <td>Yes</td>\n",
       "    </tr>\n",
       "    <tr>\n",
       "      <th>2</th>\n",
       "      <td>10003</td>\n",
       "      <td>19-12-2019</td>\n",
       "      <td>01-12-2019</td>\n",
       "      <td>Thursday</td>\n",
       "      <td>Apple</td>\n",
       "      <td>3</td>\n",
       "      <td>60.0</td>\n",
       "      <td>Whole</td>\n",
       "      <td>In-Store</td>\n",
       "      <td>No</td>\n",
       "    </tr>\n",
       "    <tr>\n",
       "      <th>3</th>\n",
       "      <td>10004</td>\n",
       "      <td>19-12-2019</td>\n",
       "      <td>01-12-2019</td>\n",
       "      <td>Thursday</td>\n",
       "      <td>Apple</td>\n",
       "      <td>4</td>\n",
       "      <td>80.0</td>\n",
       "      <td>Whole</td>\n",
       "      <td>Pre-Order</td>\n",
       "      <td>No</td>\n",
       "    </tr>\n",
       "    <tr>\n",
       "      <th>4</th>\n",
       "      <td>10005</td>\n",
       "      <td>19-12-2019</td>\n",
       "      <td>01-12-2019</td>\n",
       "      <td>Thursday</td>\n",
       "      <td>Apple</td>\n",
       "      <td>2</td>\n",
       "      <td>40.0</td>\n",
       "      <td>Whole</td>\n",
       "      <td>In-Store</td>\n",
       "      <td>No</td>\n",
       "    </tr>\n",
       "    <tr>\n",
       "      <th>...</th>\n",
       "      <td>...</td>\n",
       "      <td>...</td>\n",
       "      <td>...</td>\n",
       "      <td>...</td>\n",
       "      <td>...</td>\n",
       "      <td>...</td>\n",
       "      <td>...</td>\n",
       "      <td>...</td>\n",
       "      <td>...</td>\n",
       "      <td>...</td>\n",
       "    </tr>\n",
       "    <tr>\n",
       "      <th>2768</th>\n",
       "      <td>12769</td>\n",
       "      <td>27-03-2021</td>\n",
       "      <td>01-03-2021</td>\n",
       "      <td>Saturday</td>\n",
       "      <td>Strawberry Rhubarb</td>\n",
       "      <td>3</td>\n",
       "      <td>60.0</td>\n",
       "      <td>Whole</td>\n",
       "      <td>Pre-Order</td>\n",
       "      <td>Yes</td>\n",
       "    </tr>\n",
       "    <tr>\n",
       "      <th>2769</th>\n",
       "      <td>12770</td>\n",
       "      <td>27-03-2021</td>\n",
       "      <td>01-03-2021</td>\n",
       "      <td>Saturday</td>\n",
       "      <td>Cherry</td>\n",
       "      <td>1</td>\n",
       "      <td>20.0</td>\n",
       "      <td>Whole</td>\n",
       "      <td>In-Store</td>\n",
       "      <td>Yes</td>\n",
       "    </tr>\n",
       "    <tr>\n",
       "      <th>2770</th>\n",
       "      <td>12771</td>\n",
       "      <td>27-03-2021</td>\n",
       "      <td>01-03-2021</td>\n",
       "      <td>Saturday</td>\n",
       "      <td>Strawberry Rhubarb</td>\n",
       "      <td>4</td>\n",
       "      <td>10.0</td>\n",
       "      <td>Slice</td>\n",
       "      <td>In-Store</td>\n",
       "      <td>Yes</td>\n",
       "    </tr>\n",
       "    <tr>\n",
       "      <th>2771</th>\n",
       "      <td>12772</td>\n",
       "      <td>27-03-2021</td>\n",
       "      <td>01-03-2021</td>\n",
       "      <td>Saturday</td>\n",
       "      <td>Cherry</td>\n",
       "      <td>3</td>\n",
       "      <td>60.0</td>\n",
       "      <td>Whole</td>\n",
       "      <td>Pre-Order</td>\n",
       "      <td>Yes</td>\n",
       "    </tr>\n",
       "    <tr>\n",
       "      <th>2772</th>\n",
       "      <td>12773</td>\n",
       "      <td>27-03-2021</td>\n",
       "      <td>01-03-2021</td>\n",
       "      <td>Saturday</td>\n",
       "      <td>Cherry</td>\n",
       "      <td>5</td>\n",
       "      <td>100.0</td>\n",
       "      <td>Whole</td>\n",
       "      <td>In-Store</td>\n",
       "      <td>Yes</td>\n",
       "    </tr>\n",
       "  </tbody>\n",
       "</table>\n",
       "<p>2773 rows × 10 columns</p>\n",
       "</div>"
      ],
      "text/plain": [
       "      Order NO  Order Date    Month/Yr Day of Week          Pie Flavor  \\\n",
       "0        10001  19-12-2019  01-12-2019    Thursday               Apple   \n",
       "1        10002  19-12-2019  01-12-2019    Thursday               Apple   \n",
       "2        10003  19-12-2019  01-12-2019    Thursday               Apple   \n",
       "3        10004  19-12-2019  01-12-2019    Thursday               Apple   \n",
       "4        10005  19-12-2019  01-12-2019    Thursday               Apple   \n",
       "...        ...         ...         ...         ...                 ...   \n",
       "2768     12769  27-03-2021  01-03-2021    Saturday  Strawberry Rhubarb   \n",
       "2769     12770  27-03-2021  01-03-2021    Saturday              Cherry   \n",
       "2770     12771  27-03-2021  01-03-2021    Saturday  Strawberry Rhubarb   \n",
       "2771     12772  27-03-2021  01-03-2021    Saturday              Cherry   \n",
       "2772     12773  27-03-2021  01-03-2021    Saturday              Cherry   \n",
       "\n",
       "      Quantity   Cost Slice Or Whole Pie Pre-Order/In-Store Purchase Organic?  \n",
       "0            5   12.5              Slice                   Pre-Order       No  \n",
       "1            3   60.0              Whole                    In-Store      Yes  \n",
       "2            3   60.0              Whole                    In-Store       No  \n",
       "3            4   80.0              Whole                   Pre-Order       No  \n",
       "4            2   40.0              Whole                    In-Store       No  \n",
       "...        ...    ...                ...                         ...      ...  \n",
       "2768         3   60.0              Whole                   Pre-Order      Yes  \n",
       "2769         1   20.0              Whole                    In-Store      Yes  \n",
       "2770         4   10.0              Slice                    In-Store      Yes  \n",
       "2771         3   60.0              Whole                   Pre-Order      Yes  \n",
       "2772         5  100.0              Whole                    In-Store      Yes  \n",
       "\n",
       "[2773 rows x 10 columns]"
      ]
     },
     "execution_count": 2,
     "metadata": {},
     "output_type": "execute_result"
    }
   ],
   "source": [
    "df = pd.read_csv(\"onyx march data.csv\")\n",
    "df"
   ]
  },
  {
   "cell_type": "markdown",
   "id": "f8d15ed6",
   "metadata": {},
   "source": [
    "# Understanding and preparation of the dataset\n"
   ]
  },
  {
   "cell_type": "code",
   "execution_count": 3,
   "id": "8b79034e",
   "metadata": {
    "scrolled": true
   },
   "outputs": [
    {
     "data": {
      "text/html": [
       "<div>\n",
       "<style scoped>\n",
       "    .dataframe tbody tr th:only-of-type {\n",
       "        vertical-align: middle;\n",
       "    }\n",
       "\n",
       "    .dataframe tbody tr th {\n",
       "        vertical-align: top;\n",
       "    }\n",
       "\n",
       "    .dataframe thead th {\n",
       "        text-align: right;\n",
       "    }\n",
       "</style>\n",
       "<table border=\"1\" class=\"dataframe\">\n",
       "  <thead>\n",
       "    <tr style=\"text-align: right;\">\n",
       "      <th></th>\n",
       "      <th>Order NO</th>\n",
       "      <th>Order Date</th>\n",
       "      <th>Month/Yr</th>\n",
       "      <th>Day of Week</th>\n",
       "      <th>Pie Flavor</th>\n",
       "      <th>Quantity</th>\n",
       "      <th>Cost</th>\n",
       "      <th>Slice Or Whole Pie</th>\n",
       "      <th>Pre-Order/In-Store Purchase</th>\n",
       "      <th>Organic?</th>\n",
       "    </tr>\n",
       "  </thead>\n",
       "  <tbody>\n",
       "    <tr>\n",
       "      <th>0</th>\n",
       "      <td>10001</td>\n",
       "      <td>19-12-2019</td>\n",
       "      <td>01-12-2019</td>\n",
       "      <td>Thursday</td>\n",
       "      <td>Apple</td>\n",
       "      <td>5</td>\n",
       "      <td>12.5</td>\n",
       "      <td>Slice</td>\n",
       "      <td>Pre-Order</td>\n",
       "      <td>No</td>\n",
       "    </tr>\n",
       "    <tr>\n",
       "      <th>1</th>\n",
       "      <td>10002</td>\n",
       "      <td>19-12-2019</td>\n",
       "      <td>01-12-2019</td>\n",
       "      <td>Thursday</td>\n",
       "      <td>Apple</td>\n",
       "      <td>3</td>\n",
       "      <td>60.0</td>\n",
       "      <td>Whole</td>\n",
       "      <td>In-Store</td>\n",
       "      <td>Yes</td>\n",
       "    </tr>\n",
       "    <tr>\n",
       "      <th>2</th>\n",
       "      <td>10003</td>\n",
       "      <td>19-12-2019</td>\n",
       "      <td>01-12-2019</td>\n",
       "      <td>Thursday</td>\n",
       "      <td>Apple</td>\n",
       "      <td>3</td>\n",
       "      <td>60.0</td>\n",
       "      <td>Whole</td>\n",
       "      <td>In-Store</td>\n",
       "      <td>No</td>\n",
       "    </tr>\n",
       "    <tr>\n",
       "      <th>3</th>\n",
       "      <td>10004</td>\n",
       "      <td>19-12-2019</td>\n",
       "      <td>01-12-2019</td>\n",
       "      <td>Thursday</td>\n",
       "      <td>Apple</td>\n",
       "      <td>4</td>\n",
       "      <td>80.0</td>\n",
       "      <td>Whole</td>\n",
       "      <td>Pre-Order</td>\n",
       "      <td>No</td>\n",
       "    </tr>\n",
       "    <tr>\n",
       "      <th>4</th>\n",
       "      <td>10005</td>\n",
       "      <td>19-12-2019</td>\n",
       "      <td>01-12-2019</td>\n",
       "      <td>Thursday</td>\n",
       "      <td>Apple</td>\n",
       "      <td>2</td>\n",
       "      <td>40.0</td>\n",
       "      <td>Whole</td>\n",
       "      <td>In-Store</td>\n",
       "      <td>No</td>\n",
       "    </tr>\n",
       "  </tbody>\n",
       "</table>\n",
       "</div>"
      ],
      "text/plain": [
       "   Order NO  Order Date    Month/Yr Day of Week Pie Flavor  Quantity  Cost  \\\n",
       "0     10001  19-12-2019  01-12-2019    Thursday      Apple         5  12.5   \n",
       "1     10002  19-12-2019  01-12-2019    Thursday      Apple         3  60.0   \n",
       "2     10003  19-12-2019  01-12-2019    Thursday      Apple         3  60.0   \n",
       "3     10004  19-12-2019  01-12-2019    Thursday      Apple         4  80.0   \n",
       "4     10005  19-12-2019  01-12-2019    Thursday      Apple         2  40.0   \n",
       "\n",
       "  Slice Or Whole Pie Pre-Order/In-Store Purchase Organic?  \n",
       "0              Slice                   Pre-Order       No  \n",
       "1              Whole                    In-Store      Yes  \n",
       "2              Whole                    In-Store       No  \n",
       "3              Whole                   Pre-Order       No  \n",
       "4              Whole                    In-Store       No  "
      ]
     },
     "execution_count": 3,
     "metadata": {},
     "output_type": "execute_result"
    }
   ],
   "source": [
    "df.head()"
   ]
  },
  {
   "cell_type": "code",
   "execution_count": 4,
   "id": "e130aa39",
   "metadata": {},
   "outputs": [
    {
     "data": {
      "text/html": [
       "<div>\n",
       "<style scoped>\n",
       "    .dataframe tbody tr th:only-of-type {\n",
       "        vertical-align: middle;\n",
       "    }\n",
       "\n",
       "    .dataframe tbody tr th {\n",
       "        vertical-align: top;\n",
       "    }\n",
       "\n",
       "    .dataframe thead th {\n",
       "        text-align: right;\n",
       "    }\n",
       "</style>\n",
       "<table border=\"1\" class=\"dataframe\">\n",
       "  <thead>\n",
       "    <tr style=\"text-align: right;\">\n",
       "      <th></th>\n",
       "      <th>Order NO</th>\n",
       "      <th>Order Date</th>\n",
       "      <th>Month/Yr</th>\n",
       "      <th>Day of Week</th>\n",
       "      <th>Pie Flavor</th>\n",
       "      <th>Quantity</th>\n",
       "      <th>Cost</th>\n",
       "      <th>Slice Or Whole Pie</th>\n",
       "      <th>Pre-Order/In-Store Purchase</th>\n",
       "      <th>Organic?</th>\n",
       "    </tr>\n",
       "  </thead>\n",
       "  <tbody>\n",
       "    <tr>\n",
       "      <th>2768</th>\n",
       "      <td>12769</td>\n",
       "      <td>27-03-2021</td>\n",
       "      <td>01-03-2021</td>\n",
       "      <td>Saturday</td>\n",
       "      <td>Strawberry Rhubarb</td>\n",
       "      <td>3</td>\n",
       "      <td>60.0</td>\n",
       "      <td>Whole</td>\n",
       "      <td>Pre-Order</td>\n",
       "      <td>Yes</td>\n",
       "    </tr>\n",
       "    <tr>\n",
       "      <th>2769</th>\n",
       "      <td>12770</td>\n",
       "      <td>27-03-2021</td>\n",
       "      <td>01-03-2021</td>\n",
       "      <td>Saturday</td>\n",
       "      <td>Cherry</td>\n",
       "      <td>1</td>\n",
       "      <td>20.0</td>\n",
       "      <td>Whole</td>\n",
       "      <td>In-Store</td>\n",
       "      <td>Yes</td>\n",
       "    </tr>\n",
       "    <tr>\n",
       "      <th>2770</th>\n",
       "      <td>12771</td>\n",
       "      <td>27-03-2021</td>\n",
       "      <td>01-03-2021</td>\n",
       "      <td>Saturday</td>\n",
       "      <td>Strawberry Rhubarb</td>\n",
       "      <td>4</td>\n",
       "      <td>10.0</td>\n",
       "      <td>Slice</td>\n",
       "      <td>In-Store</td>\n",
       "      <td>Yes</td>\n",
       "    </tr>\n",
       "    <tr>\n",
       "      <th>2771</th>\n",
       "      <td>12772</td>\n",
       "      <td>27-03-2021</td>\n",
       "      <td>01-03-2021</td>\n",
       "      <td>Saturday</td>\n",
       "      <td>Cherry</td>\n",
       "      <td>3</td>\n",
       "      <td>60.0</td>\n",
       "      <td>Whole</td>\n",
       "      <td>Pre-Order</td>\n",
       "      <td>Yes</td>\n",
       "    </tr>\n",
       "    <tr>\n",
       "      <th>2772</th>\n",
       "      <td>12773</td>\n",
       "      <td>27-03-2021</td>\n",
       "      <td>01-03-2021</td>\n",
       "      <td>Saturday</td>\n",
       "      <td>Cherry</td>\n",
       "      <td>5</td>\n",
       "      <td>100.0</td>\n",
       "      <td>Whole</td>\n",
       "      <td>In-Store</td>\n",
       "      <td>Yes</td>\n",
       "    </tr>\n",
       "  </tbody>\n",
       "</table>\n",
       "</div>"
      ],
      "text/plain": [
       "      Order NO  Order Date    Month/Yr Day of Week          Pie Flavor  \\\n",
       "2768     12769  27-03-2021  01-03-2021    Saturday  Strawberry Rhubarb   \n",
       "2769     12770  27-03-2021  01-03-2021    Saturday              Cherry   \n",
       "2770     12771  27-03-2021  01-03-2021    Saturday  Strawberry Rhubarb   \n",
       "2771     12772  27-03-2021  01-03-2021    Saturday              Cherry   \n",
       "2772     12773  27-03-2021  01-03-2021    Saturday              Cherry   \n",
       "\n",
       "      Quantity   Cost Slice Or Whole Pie Pre-Order/In-Store Purchase Organic?  \n",
       "2768         3   60.0              Whole                   Pre-Order      Yes  \n",
       "2769         1   20.0              Whole                    In-Store      Yes  \n",
       "2770         4   10.0              Slice                    In-Store      Yes  \n",
       "2771         3   60.0              Whole                   Pre-Order      Yes  \n",
       "2772         5  100.0              Whole                    In-Store      Yes  "
      ]
     },
     "execution_count": 4,
     "metadata": {},
     "output_type": "execute_result"
    }
   ],
   "source": [
    "df.tail()"
   ]
  },
  {
   "cell_type": "code",
   "execution_count": 5,
   "id": "8bb5cb3a",
   "metadata": {},
   "outputs": [
    {
     "data": {
      "text/plain": [
       "(2773, 10)"
      ]
     },
     "execution_count": 5,
     "metadata": {},
     "output_type": "execute_result"
    }
   ],
   "source": [
    "df.shape"
   ]
  },
  {
   "cell_type": "code",
   "execution_count": 6,
   "id": "f5a86c5e",
   "metadata": {
    "scrolled": false
   },
   "outputs": [
    {
     "data": {
      "text/html": [
       "<div>\n",
       "<style scoped>\n",
       "    .dataframe tbody tr th:only-of-type {\n",
       "        vertical-align: middle;\n",
       "    }\n",
       "\n",
       "    .dataframe tbody tr th {\n",
       "        vertical-align: top;\n",
       "    }\n",
       "\n",
       "    .dataframe thead th {\n",
       "        text-align: right;\n",
       "    }\n",
       "</style>\n",
       "<table border=\"1\" class=\"dataframe\">\n",
       "  <thead>\n",
       "    <tr style=\"text-align: right;\">\n",
       "      <th></th>\n",
       "      <th>Order NO</th>\n",
       "      <th>Quantity</th>\n",
       "      <th>Cost</th>\n",
       "    </tr>\n",
       "  </thead>\n",
       "  <tbody>\n",
       "    <tr>\n",
       "      <th>count</th>\n",
       "      <td>2773.000000</td>\n",
       "      <td>2773.000000</td>\n",
       "      <td>2773.000000</td>\n",
       "    </tr>\n",
       "    <tr>\n",
       "      <th>mean</th>\n",
       "      <td>11387.000000</td>\n",
       "      <td>3.005049</td>\n",
       "      <td>34.952218</td>\n",
       "    </tr>\n",
       "    <tr>\n",
       "      <th>std</th>\n",
       "      <td>800.640473</td>\n",
       "      <td>1.413949</td>\n",
       "      <td>33.093087</td>\n",
       "    </tr>\n",
       "    <tr>\n",
       "      <th>min</th>\n",
       "      <td>10001.000000</td>\n",
       "      <td>1.000000</td>\n",
       "      <td>2.500000</td>\n",
       "    </tr>\n",
       "    <tr>\n",
       "      <th>25%</th>\n",
       "      <td>10694.000000</td>\n",
       "      <td>2.000000</td>\n",
       "      <td>7.500000</td>\n",
       "    </tr>\n",
       "    <tr>\n",
       "      <th>50%</th>\n",
       "      <td>11387.000000</td>\n",
       "      <td>3.000000</td>\n",
       "      <td>20.000000</td>\n",
       "    </tr>\n",
       "    <tr>\n",
       "      <th>75%</th>\n",
       "      <td>12080.000000</td>\n",
       "      <td>4.000000</td>\n",
       "      <td>60.000000</td>\n",
       "    </tr>\n",
       "    <tr>\n",
       "      <th>max</th>\n",
       "      <td>12773.000000</td>\n",
       "      <td>5.000000</td>\n",
       "      <td>100.000000</td>\n",
       "    </tr>\n",
       "  </tbody>\n",
       "</table>\n",
       "</div>"
      ],
      "text/plain": [
       "           Order NO     Quantity         Cost\n",
       "count   2773.000000  2773.000000  2773.000000\n",
       "mean   11387.000000     3.005049    34.952218\n",
       "std      800.640473     1.413949    33.093087\n",
       "min    10001.000000     1.000000     2.500000\n",
       "25%    10694.000000     2.000000     7.500000\n",
       "50%    11387.000000     3.000000    20.000000\n",
       "75%    12080.000000     4.000000    60.000000\n",
       "max    12773.000000     5.000000   100.000000"
      ]
     },
     "execution_count": 6,
     "metadata": {},
     "output_type": "execute_result"
    }
   ],
   "source": [
    "df.describe()"
   ]
  },
  {
   "cell_type": "markdown",
   "id": "268285cc",
   "metadata": {},
   "source": [
    "### Checking for missing values\n"
   ]
  },
  {
   "cell_type": "code",
   "execution_count": 7,
   "id": "2e58dca1",
   "metadata": {
    "scrolled": false
   },
   "outputs": [
    {
     "data": {
      "text/plain": [
       "Order NO                       0\n",
       "Order Date                     0\n",
       "Month/Yr                       0\n",
       "Day of Week                    0\n",
       "Pie Flavor                     0\n",
       "Quantity                       0\n",
       "Cost                           0\n",
       "Slice Or Whole Pie             0\n",
       "Pre-Order/In-Store Purchase    0\n",
       "Organic?                       0\n",
       "dtype: int64"
      ]
     },
     "execution_count": 7,
     "metadata": {},
     "output_type": "execute_result"
    }
   ],
   "source": [
    "df.isnull().sum()"
   ]
  },
  {
   "cell_type": "markdown",
   "id": "42081ce2",
   "metadata": {},
   "source": [
    "### There are no missing values"
   ]
  },
  {
   "cell_type": "code",
   "execution_count": 8,
   "id": "c3e38bb4",
   "metadata": {
    "scrolled": true
   },
   "outputs": [
    {
     "data": {
      "text/plain": [
       "Apple                 702\n",
       "Strawberry Rhubarb    636\n",
       "Pumpkin               506\n",
       "Cherry                321\n",
       "Fudge                 312\n",
       "Blueberry             208\n",
       "Other                  88\n",
       "Name: Pie Flavor, dtype: int64"
      ]
     },
     "execution_count": 8,
     "metadata": {},
     "output_type": "execute_result"
    }
   ],
   "source": [
    "df[\"Pie Flavor\"].value_counts()\n"
   ]
  },
  {
   "cell_type": "markdown",
   "id": "ea7f0935",
   "metadata": {},
   "source": [
    "### Correlation between variables\n"
   ]
  },
  {
   "cell_type": "code",
   "execution_count": 9,
   "id": "affe551f",
   "metadata": {
    "scrolled": true
   },
   "outputs": [
    {
     "data": {
      "text/html": [
       "<div>\n",
       "<style scoped>\n",
       "    .dataframe tbody tr th:only-of-type {\n",
       "        vertical-align: middle;\n",
       "    }\n",
       "\n",
       "    .dataframe tbody tr th {\n",
       "        vertical-align: top;\n",
       "    }\n",
       "\n",
       "    .dataframe thead th {\n",
       "        text-align: right;\n",
       "    }\n",
       "</style>\n",
       "<table border=\"1\" class=\"dataframe\">\n",
       "  <thead>\n",
       "    <tr style=\"text-align: right;\">\n",
       "      <th></th>\n",
       "      <th>Order NO</th>\n",
       "      <th>Quantity</th>\n",
       "      <th>Cost</th>\n",
       "    </tr>\n",
       "  </thead>\n",
       "  <tbody>\n",
       "    <tr>\n",
       "      <th>Order NO</th>\n",
       "      <td>1.000000</td>\n",
       "      <td>0.028052</td>\n",
       "      <td>0.011528</td>\n",
       "    </tr>\n",
       "    <tr>\n",
       "      <th>Quantity</th>\n",
       "      <td>0.028052</td>\n",
       "      <td>1.000000</td>\n",
       "      <td>0.479469</td>\n",
       "    </tr>\n",
       "    <tr>\n",
       "      <th>Cost</th>\n",
       "      <td>0.011528</td>\n",
       "      <td>0.479469</td>\n",
       "      <td>1.000000</td>\n",
       "    </tr>\n",
       "  </tbody>\n",
       "</table>\n",
       "</div>"
      ],
      "text/plain": [
       "          Order NO  Quantity      Cost\n",
       "Order NO  1.000000  0.028052  0.011528\n",
       "Quantity  0.028052  1.000000  0.479469\n",
       "Cost      0.011528  0.479469  1.000000"
      ]
     },
     "execution_count": 9,
     "metadata": {},
     "output_type": "execute_result"
    }
   ],
   "source": [
    "df.corr()"
   ]
  },
  {
   "cell_type": "code",
   "execution_count": 10,
   "id": "dfd0a4ee",
   "metadata": {},
   "outputs": [
    {
     "data": {
      "text/plain": [
       "<AxesSubplot:>"
      ]
     },
     "execution_count": 10,
     "metadata": {},
     "output_type": "execute_result"
    },
    {
     "data": {
      "image/png": "[encoded data removed]",
      "text/plain": [
       "<Figure size 432x288 with 2 Axes>"
      ]
     },
     "metadata": {
      "needs_background": "light"
     },
     "output_type": "display_data"
    }
   ],
   "source": [
    "sns.heatmap(data=df.corr(),yticklabels=False,linewidths=5,annot=True)"
   ]
  },
  {
   "cell_type": "markdown",
   "id": "69c0a585",
   "metadata": {},
   "source": [
    "# Data Visualization"
   ]
  },
  {
   "cell_type": "markdown",
   "id": "f23d0015",
   "metadata": {},
   "source": [
    "### Determining the most purchased pies"
   ]
  },
  {
   "cell_type": "code",
   "execution_count": 11,
   "id": "d7c6b652",
   "metadata": {},
   "outputs": [
    {
     "data": {
      "text/plain": [
       "Apple                 702\n",
       "Strawberry Rhubarb    636\n",
       "Pumpkin               506\n",
       "Cherry                321\n",
       "Fudge                 312\n",
       "Blueberry             208\n",
       "Other                  88\n",
       "Name: Pie Flavor, dtype: int64"
      ]
     },
     "execution_count": 11,
     "metadata": {},
     "output_type": "execute_result"
    }
   ],
   "source": [
    "a=df[\"Pie Flavor\"].value_counts()\n",
    "a"
   ]
  },
  {
   "cell_type": "code",
   "execution_count": 12,
   "id": "cdbb045c",
   "metadata": {},
   "outputs": [],
   "source": [
    "keys=a.keys().to_list()\n",
    "counts=a.to_list()"
   ]
  },
  {
   "cell_type": "code",
   "execution_count": 13,
   "id": "4c9de78f",
   "metadata": {
    "scrolled": false
   },
   "outputs": [
    {
     "data": {
      "text/plain": [
       "<matplotlib.patches.Circle at 0x1bb780e34c0>"
      ]
     },
     "execution_count": 13,
     "metadata": {},
     "output_type": "execute_result"
    },
    {
     "data": {
      "image/png": "[encoded data removed]",
      "text/plain": [
       "<Figure size 720x504 with 1 Axes>"
      ]
     },
     "metadata": {},
     "output_type": "display_data"
    }
   ],
   "source": [
    "myexplode = [0.1, 0.1, 0.1, 0.2,0.2,0.2,0.3]\n",
    "fig = plt.figure(figsize =(10, 7))\n",
    "plt.pie(x=counts,data=df,explode=myexplode,labels=keys,autopct='%1.1f%%',shadow=True)\n",
    "centre_circle = plt.Circle((0,0),0.70,fc='white')\n",
    "fig = plt.gcf()\n",
    "fig.gca().add_artist(centre_circle)"
   ]
  },
  {
   "cell_type": "markdown",
   "id": "4e16b237",
   "metadata": {},
   "source": [
    "### Apple pies are the most purchased pies"
   ]
  },
  {
   "cell_type": "markdown",
   "id": "9f69a77a",
   "metadata": {},
   "source": [
    "### Determining how customers want the pies whether as a whole or slices"
   ]
  },
  {
   "cell_type": "code",
   "execution_count": 14,
   "id": "242e6dc5",
   "metadata": {
    "scrolled": false
   },
   "outputs": [
    {
     "data": {
      "text/plain": [
       "<AxesSubplot:xlabel='Pie Flavor', ylabel='count'>"
      ]
     },
     "execution_count": 14,
     "metadata": {},
     "output_type": "execute_result"
    },
    {
     "data": {
      "image/png": "[encoded data removed]",
      "text/plain": [
       "<Figure size 720x504 with 1 Axes>"
      ]
     },
     "metadata": {},
     "output_type": "display_data"
    }
   ],
   "source": [
    "sns.set_theme(style=\"whitegrid\")\n",
    "fig = plt.figure(figsize =(10, 7))\n",
    "sns.countplot(x=\"Pie Flavor\",data=df,hue=\"Slice Or Whole Pie\")"
   ]
  },
  {
   "cell_type": "code",
   "execution_count": 15,
   "id": "7c045f8a",
   "metadata": {},
   "outputs": [],
   "source": [
    "# Only for Blueberry pies people prefer sliced and prefer whole for all the other pies"
   ]
  },
  {
   "cell_type": "markdown",
   "id": "1997b82f",
   "metadata": {},
   "source": [
    "### Determining how customers want the pies whether Organic or Non-Organic."
   ]
  },
  {
   "cell_type": "code",
   "execution_count": 16,
   "id": "87b24665",
   "metadata": {
    "scrolled": false
   },
   "outputs": [
    {
     "data": {
      "text/plain": [
       "<AxesSubplot:xlabel='Pie Flavor', ylabel='count'>"
      ]
     },
     "execution_count": 16,
     "metadata": {},
     "output_type": "execute_result"
    },
    {
     "data": {
      "image/png": "[encoded data removed]",
      "text/plain": [
       "<Figure size 720x504 with 1 Axes>"
      ]
     },
     "metadata": {},
     "output_type": "display_data"
    }
   ],
   "source": [
    "fig = plt.figure(figsize =(10, 7))\n",
    "sns.countplot(x=\"Pie Flavor\",data=df,hue=\"Organic?\")"
   ]
  },
  {
   "cell_type": "code",
   "execution_count": 17,
   "id": "a27dc378",
   "metadata": {},
   "outputs": [],
   "source": [
    "# People mostly  prefer organic pies"
   ]
  },
  {
   "cell_type": "code",
   "execution_count": 18,
   "id": "e6230af4",
   "metadata": {
    "scrolled": false
   },
   "outputs": [
    {
     "data": {
      "text/plain": [
       "<AxesSubplot:xlabel='Organic?', ylabel='count'>"
      ]
     },
     "execution_count": 18,
     "metadata": {},
     "output_type": "execute_result"
    },
    {
     "data": {
      "image/png": "[encoded data removed]",
      "text/plain": [
       "<Figure size 432x288 with 1 Axes>"
      ]
     },
     "metadata": {},
     "output_type": "display_data"
    }
   ],
   "source": [
    "sns.countplot(x=\"Organic?\",data=df,palette=\"Set3\")"
   ]
  },
  {
   "cell_type": "markdown",
   "id": "7e77c769",
   "metadata": {},
   "source": [
    "# Determining the sale in a week"
   ]
  },
  {
   "cell_type": "code",
   "execution_count": 19,
   "id": "faa454e9",
   "metadata": {
    "scrolled": false
   },
   "outputs": [
    {
     "data": {
      "text/plain": [
       "<AxesSubplot:xlabel='count', ylabel='Day of Week'>"
      ]
     },
     "execution_count": 19,
     "metadata": {},
     "output_type": "execute_result"
    },
    {
     "data": {
      "image/png": "[encoded data removed]",
      "text/plain": [
       "<Figure size 720x504 with 1 Axes>"
      ]
     },
     "metadata": {},
     "output_type": "display_data"
    }
   ],
   "source": [
    "sns.set_theme(style=\"darkgrid\")\n",
    "fig = plt.figure(figsize =(10, 7))\n",
    "sns.countplot(y=\"Day of Week\",data=df,order=[\"Monday\",\"Tuesday\",\"Wednesday\",\"Thursday\",\"Friday\",\"Saturday\",\"Sunday\"],facecolor=(0, 0, 0, 0),linewidth=5,\n",
    "                   edgecolor=sns.color_palette(\"dark\", 7))"
   ]
  },
  {
   "cell_type": "code",
   "execution_count": 20,
   "id": "53d30902",
   "metadata": {
    "scrolled": false
   },
   "outputs": [
    {
     "data": {
      "text/plain": [
       "<AxesSubplot:xlabel='Pre-Order/In-Store Purchase', ylabel='count'>"
      ]
     },
     "execution_count": 20,
     "metadata": {},
     "output_type": "execute_result"
    },
    {
     "data": {
      "image/png": "[encoded data removed]",
      "text/plain": [
       "<Figure size 504x360 with 1 Axes>"
      ]
     },
     "metadata": {},
     "output_type": "display_data"
    }
   ],
   "source": [
    "sns.set_theme(style=\"darkgrid\")\n",
    "fig = plt.figure(figsize =(7, 5))\n",
    "sns.countplot(x=\"Pre-Order/In-Store Purchase\",data=df,palette='Set2')\n"
   ]
  },
  {
   "cell_type": "code",
   "execution_count": 21,
   "id": "11513e4d",
   "metadata": {},
   "outputs": [],
   "source": [
    "# pre-order is done more than In-store purchase"
   ]
  },
  {
   "cell_type": "code",
   "execution_count": 22,
   "id": "d4d20b71",
   "metadata": {},
   "outputs": [
    {
     "data": {
      "text/html": [
       "<div>\n",
       "<style scoped>\n",
       "    .dataframe tbody tr th:only-of-type {\n",
       "        vertical-align: middle;\n",
       "    }\n",
       "\n",
       "    .dataframe tbody tr th {\n",
       "        vertical-align: top;\n",
       "    }\n",
       "\n",
       "    .dataframe thead th {\n",
       "        text-align: right;\n",
       "    }\n",
       "</style>\n",
       "<table border=\"1\" class=\"dataframe\">\n",
       "  <thead>\n",
       "    <tr style=\"text-align: right;\">\n",
       "      <th></th>\n",
       "      <th>Order NO</th>\n",
       "      <th>Order Date</th>\n",
       "      <th>Month/Yr</th>\n",
       "      <th>Day of Week</th>\n",
       "      <th>Pie Flavor</th>\n",
       "      <th>Quantity</th>\n",
       "      <th>Cost</th>\n",
       "      <th>Slice Or Whole Pie</th>\n",
       "      <th>Pre-Order/In-Store Purchase</th>\n",
       "      <th>Organic?</th>\n",
       "    </tr>\n",
       "  </thead>\n",
       "  <tbody>\n",
       "    <tr>\n",
       "      <th>0</th>\n",
       "      <td>10001</td>\n",
       "      <td>19-12-2019</td>\n",
       "      <td>01-12-2019</td>\n",
       "      <td>Thursday</td>\n",
       "      <td>Apple</td>\n",
       "      <td>5</td>\n",
       "      <td>12.5</td>\n",
       "      <td>Slice</td>\n",
       "      <td>Pre-Order</td>\n",
       "      <td>No</td>\n",
       "    </tr>\n",
       "    <tr>\n",
       "      <th>1</th>\n",
       "      <td>10002</td>\n",
       "      <td>19-12-2019</td>\n",
       "      <td>01-12-2019</td>\n",
       "      <td>Thursday</td>\n",
       "      <td>Apple</td>\n",
       "      <td>3</td>\n",
       "      <td>60.0</td>\n",
       "      <td>Whole</td>\n",
       "      <td>In-Store</td>\n",
       "      <td>Yes</td>\n",
       "    </tr>\n",
       "    <tr>\n",
       "      <th>2</th>\n",
       "      <td>10003</td>\n",
       "      <td>19-12-2019</td>\n",
       "      <td>01-12-2019</td>\n",
       "      <td>Thursday</td>\n",
       "      <td>Apple</td>\n",
       "      <td>3</td>\n",
       "      <td>60.0</td>\n",
       "      <td>Whole</td>\n",
       "      <td>In-Store</td>\n",
       "      <td>No</td>\n",
       "    </tr>\n",
       "    <tr>\n",
       "      <th>3</th>\n",
       "      <td>10004</td>\n",
       "      <td>19-12-2019</td>\n",
       "      <td>01-12-2019</td>\n",
       "      <td>Thursday</td>\n",
       "      <td>Apple</td>\n",
       "      <td>4</td>\n",
       "      <td>80.0</td>\n",
       "      <td>Whole</td>\n",
       "      <td>Pre-Order</td>\n",
       "      <td>No</td>\n",
       "    </tr>\n",
       "    <tr>\n",
       "      <th>4</th>\n",
       "      <td>10005</td>\n",
       "      <td>19-12-2019</td>\n",
       "      <td>01-12-2019</td>\n",
       "      <td>Thursday</td>\n",
       "      <td>Apple</td>\n",
       "      <td>2</td>\n",
       "      <td>40.0</td>\n",
       "      <td>Whole</td>\n",
       "      <td>In-Store</td>\n",
       "      <td>No</td>\n",
       "    </tr>\n",
       "    <tr>\n",
       "      <th>...</th>\n",
       "      <td>...</td>\n",
       "      <td>...</td>\n",
       "      <td>...</td>\n",
       "      <td>...</td>\n",
       "      <td>...</td>\n",
       "      <td>...</td>\n",
       "      <td>...</td>\n",
       "      <td>...</td>\n",
       "      <td>...</td>\n",
       "      <td>...</td>\n",
       "    </tr>\n",
       "    <tr>\n",
       "      <th>2768</th>\n",
       "      <td>12769</td>\n",
       "      <td>27-03-2021</td>\n",
       "      <td>01-03-2021</td>\n",
       "      <td>Saturday</td>\n",
       "      <td>Strawberry Rhubarb</td>\n",
       "      <td>3</td>\n",
       "      <td>60.0</td>\n",
       "      <td>Whole</td>\n",
       "      <td>Pre-Order</td>\n",
       "      <td>Yes</td>\n",
       "    </tr>\n",
       "    <tr>\n",
       "      <th>2769</th>\n",
       "      <td>12770</td>\n",
       "      <td>27-03-2021</td>\n",
       "      <td>01-03-2021</td>\n",
       "      <td>Saturday</td>\n",
       "      <td>Cherry</td>\n",
       "      <td>1</td>\n",
       "      <td>20.0</td>\n",
       "      <td>Whole</td>\n",
       "      <td>In-Store</td>\n",
       "      <td>Yes</td>\n",
       "    </tr>\n",
       "    <tr>\n",
       "      <th>2770</th>\n",
       "      <td>12771</td>\n",
       "      <td>27-03-2021</td>\n",
       "      <td>01-03-2021</td>\n",
       "      <td>Saturday</td>\n",
       "      <td>Strawberry Rhubarb</td>\n",
       "      <td>4</td>\n",
       "      <td>10.0</td>\n",
       "      <td>Slice</td>\n",
       "      <td>In-Store</td>\n",
       "      <td>Yes</td>\n",
       "    </tr>\n",
       "    <tr>\n",
       "      <th>2771</th>\n",
       "      <td>12772</td>\n",
       "      <td>27-03-2021</td>\n",
       "      <td>01-03-2021</td>\n",
       "      <td>Saturday</td>\n",
       "      <td>Cherry</td>\n",
       "      <td>3</td>\n",
       "      <td>60.0</td>\n",
       "      <td>Whole</td>\n",
       "      <td>Pre-Order</td>\n",
       "      <td>Yes</td>\n",
       "    </tr>\n",
       "    <tr>\n",
       "      <th>2772</th>\n",
       "      <td>12773</td>\n",
       "      <td>27-03-2021</td>\n",
       "      <td>01-03-2021</td>\n",
       "      <td>Saturday</td>\n",
       "      <td>Cherry</td>\n",
       "      <td>5</td>\n",
       "      <td>100.0</td>\n",
       "      <td>Whole</td>\n",
       "      <td>In-Store</td>\n",
       "      <td>Yes</td>\n",
       "    </tr>\n",
       "  </tbody>\n",
       "</table>\n",
       "<p>2773 rows × 10 columns</p>\n",
       "</div>"
      ],
      "text/plain": [
       "      Order NO  Order Date    Month/Yr Day of Week          Pie Flavor  \\\n",
       "0        10001  19-12-2019  01-12-2019    Thursday               Apple   \n",
       "1        10002  19-12-2019  01-12-2019    Thursday               Apple   \n",
       "2        10003  19-12-2019  01-12-2019    Thursday               Apple   \n",
       "3        10004  19-12-2019  01-12-2019    Thursday               Apple   \n",
       "4        10005  19-12-2019  01-12-2019    Thursday               Apple   \n",
       "...        ...         ...         ...         ...                 ...   \n",
       "2768     12769  27-03-2021  01-03-2021    Saturday  Strawberry Rhubarb   \n",
       "2769     12770  27-03-2021  01-03-2021    Saturday              Cherry   \n",
       "2770     12771  27-03-2021  01-03-2021    Saturday  Strawberry Rhubarb   \n",
       "2771     12772  27-03-2021  01-03-2021    Saturday              Cherry   \n",
       "2772     12773  27-03-2021  01-03-2021    Saturday              Cherry   \n",
       "\n",
       "      Quantity   Cost Slice Or Whole Pie Pre-Order/In-Store Purchase Organic?  \n",
       "0            5   12.5              Slice                   Pre-Order       No  \n",
       "1            3   60.0              Whole                    In-Store      Yes  \n",
       "2            3   60.0              Whole                    In-Store       No  \n",
       "3            4   80.0              Whole                   Pre-Order       No  \n",
       "4            2   40.0              Whole                    In-Store       No  \n",
       "...        ...    ...                ...                         ...      ...  \n",
       "2768         3   60.0              Whole                   Pre-Order      Yes  \n",
       "2769         1   20.0              Whole                    In-Store      Yes  \n",
       "2770         4   10.0              Slice                    In-Store      Yes  \n",
       "2771         3   60.0              Whole                   Pre-Order      Yes  \n",
       "2772         5  100.0              Whole                    In-Store      Yes  \n",
       "\n",
       "[2773 rows x 10 columns]"
      ]
     },
     "execution_count": 22,
     "metadata": {},
     "output_type": "execute_result"
    }
   ],
   "source": [
    "df"
   ]
  },
  {
   "cell_type": "code",
   "execution_count": 23,
   "id": "dc13c7b1",
   "metadata": {},
   "outputs": [],
   "source": [
    "## The plot shows that more sales are done during saturday"
   ]
  },
  {
   "cell_type": "code",
   "execution_count": 24,
   "id": "9e43cc76",
   "metadata": {},
   "outputs": [
    {
     "data": {
      "text/plain": [
       "<seaborn.axisgrid.PairGrid at 0x1bb7822f9a0>"
      ]
     },
     "execution_count": 24,
     "metadata": {},
     "output_type": "execute_result"
    },
    {
     "data": {
      "image/png": "[encoded data removed]",
      "text/plain": [
       "<Figure size 540x540 with 12 Axes>"
      ]
     },
     "metadata": {},
     "output_type": "display_data"
    }
   ],
   "source": [
    "sns.pairplot(data=df)"
   ]
  },
  {
   "cell_type": "code",
   "execution_count": 25,
   "id": "35aa2b2b",
   "metadata": {},
   "outputs": [],
   "source": [
    "df1=df"
   ]
  },
  {
   "cell_type": "code",
   "execution_count": 26,
   "id": "1ac71bc2",
   "metadata": {},
   "outputs": [
    {
     "data": {
      "text/html": [
       "<div>\n",
       "<style scoped>\n",
       "    .dataframe tbody tr th:only-of-type {\n",
       "        vertical-align: middle;\n",
       "    }\n",
       "\n",
       "    .dataframe tbody tr th {\n",
       "        vertical-align: top;\n",
       "    }\n",
       "\n",
       "    .dataframe thead th {\n",
       "        text-align: right;\n",
       "    }\n",
       "</style>\n",
       "<table border=\"1\" class=\"dataframe\">\n",
       "  <thead>\n",
       "    <tr style=\"text-align: right;\">\n",
       "      <th></th>\n",
       "      <th>Order NO</th>\n",
       "      <th>Order Date</th>\n",
       "      <th>Day of Week</th>\n",
       "      <th>Pie Flavor</th>\n",
       "      <th>Quantity</th>\n",
       "      <th>Cost</th>\n",
       "      <th>Slice Or Whole Pie</th>\n",
       "      <th>Pre-Order/In-Store Purchase</th>\n",
       "      <th>Organic?</th>\n",
       "      <th>Date</th>\n",
       "      <th>year</th>\n",
       "      <th>month</th>\n",
       "    </tr>\n",
       "  </thead>\n",
       "  <tbody>\n",
       "    <tr>\n",
       "      <th>0</th>\n",
       "      <td>10001</td>\n",
       "      <td>19-12-2019</td>\n",
       "      <td>Thursday</td>\n",
       "      <td>Apple</td>\n",
       "      <td>5</td>\n",
       "      <td>12.5</td>\n",
       "      <td>Slice</td>\n",
       "      <td>Pre-Order</td>\n",
       "      <td>No</td>\n",
       "      <td>2019-12-01</td>\n",
       "      <td>2019</td>\n",
       "      <td>12</td>\n",
       "    </tr>\n",
       "    <tr>\n",
       "      <th>1</th>\n",
       "      <td>10002</td>\n",
       "      <td>19-12-2019</td>\n",
       "      <td>Thursday</td>\n",
       "      <td>Apple</td>\n",
       "      <td>3</td>\n",
       "      <td>60.0</td>\n",
       "      <td>Whole</td>\n",
       "      <td>In-Store</td>\n",
       "      <td>Yes</td>\n",
       "      <td>2019-12-01</td>\n",
       "      <td>2019</td>\n",
       "      <td>12</td>\n",
       "    </tr>\n",
       "    <tr>\n",
       "      <th>2</th>\n",
       "      <td>10003</td>\n",
       "      <td>19-12-2019</td>\n",
       "      <td>Thursday</td>\n",
       "      <td>Apple</td>\n",
       "      <td>3</td>\n",
       "      <td>60.0</td>\n",
       "      <td>Whole</td>\n",
       "      <td>In-Store</td>\n",
       "      <td>No</td>\n",
       "      <td>2019-12-01</td>\n",
       "      <td>2019</td>\n",
       "      <td>12</td>\n",
       "    </tr>\n",
       "    <tr>\n",
       "      <th>3</th>\n",
       "      <td>10004</td>\n",
       "      <td>19-12-2019</td>\n",
       "      <td>Thursday</td>\n",
       "      <td>Apple</td>\n",
       "      <td>4</td>\n",
       "      <td>80.0</td>\n",
       "      <td>Whole</td>\n",
       "      <td>Pre-Order</td>\n",
       "      <td>No</td>\n",
       "      <td>2019-12-01</td>\n",
       "      <td>2019</td>\n",
       "      <td>12</td>\n",
       "    </tr>\n",
       "    <tr>\n",
       "      <th>4</th>\n",
       "      <td>10005</td>\n",
       "      <td>19-12-2019</td>\n",
       "      <td>Thursday</td>\n",
       "      <td>Apple</td>\n",
       "      <td>2</td>\n",
       "      <td>40.0</td>\n",
       "      <td>Whole</td>\n",
       "      <td>In-Store</td>\n",
       "      <td>No</td>\n",
       "      <td>2019-12-01</td>\n",
       "      <td>2019</td>\n",
       "      <td>12</td>\n",
       "    </tr>\n",
       "    <tr>\n",
       "      <th>...</th>\n",
       "      <td>...</td>\n",
       "      <td>...</td>\n",
       "      <td>...</td>\n",
       "      <td>...</td>\n",
       "      <td>...</td>\n",
       "      <td>...</td>\n",
       "      <td>...</td>\n",
       "      <td>...</td>\n",
       "      <td>...</td>\n",
       "      <td>...</td>\n",
       "      <td>...</td>\n",
       "      <td>...</td>\n",
       "    </tr>\n",
       "    <tr>\n",
       "      <th>2768</th>\n",
       "      <td>12769</td>\n",
       "      <td>27-03-2021</td>\n",
       "      <td>Saturday</td>\n",
       "      <td>Strawberry Rhubarb</td>\n",
       "      <td>3</td>\n",
       "      <td>60.0</td>\n",
       "      <td>Whole</td>\n",
       "      <td>Pre-Order</td>\n",
       "      <td>Yes</td>\n",
       "      <td>2021-03-01</td>\n",
       "      <td>2021</td>\n",
       "      <td>3</td>\n",
       "    </tr>\n",
       "    <tr>\n",
       "      <th>2769</th>\n",
       "      <td>12770</td>\n",
       "      <td>27-03-2021</td>\n",
       "      <td>Saturday</td>\n",
       "      <td>Cherry</td>\n",
       "      <td>1</td>\n",
       "      <td>20.0</td>\n",
       "      <td>Whole</td>\n",
       "      <td>In-Store</td>\n",
       "      <td>Yes</td>\n",
       "      <td>2021-03-01</td>\n",
       "      <td>2021</td>\n",
       "      <td>3</td>\n",
       "    </tr>\n",
       "    <tr>\n",
       "      <th>2770</th>\n",
       "      <td>12771</td>\n",
       "      <td>27-03-2021</td>\n",
       "      <td>Saturday</td>\n",
       "      <td>Strawberry Rhubarb</td>\n",
       "      <td>4</td>\n",
       "      <td>10.0</td>\n",
       "      <td>Slice</td>\n",
       "      <td>In-Store</td>\n",
       "      <td>Yes</td>\n",
       "      <td>2021-03-01</td>\n",
       "      <td>2021</td>\n",
       "      <td>3</td>\n",
       "    </tr>\n",
       "    <tr>\n",
       "      <th>2771</th>\n",
       "      <td>12772</td>\n",
       "      <td>27-03-2021</td>\n",
       "      <td>Saturday</td>\n",
       "      <td>Cherry</td>\n",
       "      <td>3</td>\n",
       "      <td>60.0</td>\n",
       "      <td>Whole</td>\n",
       "      <td>Pre-Order</td>\n",
       "      <td>Yes</td>\n",
       "      <td>2021-03-01</td>\n",
       "      <td>2021</td>\n",
       "      <td>3</td>\n",
       "    </tr>\n",
       "    <tr>\n",
       "      <th>2772</th>\n",
       "      <td>12773</td>\n",
       "      <td>27-03-2021</td>\n",
       "      <td>Saturday</td>\n",
       "      <td>Cherry</td>\n",
       "      <td>5</td>\n",
       "      <td>100.0</td>\n",
       "      <td>Whole</td>\n",
       "      <td>In-Store</td>\n",
       "      <td>Yes</td>\n",
       "      <td>2021-03-01</td>\n",
       "      <td>2021</td>\n",
       "      <td>3</td>\n",
       "    </tr>\n",
       "  </tbody>\n",
       "</table>\n",
       "<p>2773 rows × 12 columns</p>\n",
       "</div>"
      ],
      "text/plain": [
       "      Order NO  Order Date Day of Week          Pie Flavor  Quantity   Cost  \\\n",
       "0        10001  19-12-2019    Thursday               Apple         5   12.5   \n",
       "1        10002  19-12-2019    Thursday               Apple         3   60.0   \n",
       "2        10003  19-12-2019    Thursday               Apple         3   60.0   \n",
       "3        10004  19-12-2019    Thursday               Apple         4   80.0   \n",
       "4        10005  19-12-2019    Thursday               Apple         2   40.0   \n",
       "...        ...         ...         ...                 ...       ...    ...   \n",
       "2768     12769  27-03-2021    Saturday  Strawberry Rhubarb         3   60.0   \n",
       "2769     12770  27-03-2021    Saturday              Cherry         1   20.0   \n",
       "2770     12771  27-03-2021    Saturday  Strawberry Rhubarb         4   10.0   \n",
       "2771     12772  27-03-2021    Saturday              Cherry         3   60.0   \n",
       "2772     12773  27-03-2021    Saturday              Cherry         5  100.0   \n",
       "\n",
       "     Slice Or Whole Pie Pre-Order/In-Store Purchase Organic?       Date  year  \\\n",
       "0                 Slice                   Pre-Order       No 2019-12-01  2019   \n",
       "1                 Whole                    In-Store      Yes 2019-12-01  2019   \n",
       "2                 Whole                    In-Store       No 2019-12-01  2019   \n",
       "3                 Whole                   Pre-Order       No 2019-12-01  2019   \n",
       "4                 Whole                    In-Store       No 2019-12-01  2019   \n",
       "...                 ...                         ...      ...        ...   ...   \n",
       "2768              Whole                   Pre-Order      Yes 2021-03-01  2021   \n",
       "2769              Whole                    In-Store      Yes 2021-03-01  2021   \n",
       "2770              Slice                    In-Store      Yes 2021-03-01  2021   \n",
       "2771              Whole                   Pre-Order      Yes 2021-03-01  2021   \n",
       "2772              Whole                    In-Store      Yes 2021-03-01  2021   \n",
       "\n",
       "      month  \n",
       "0        12  \n",
       "1        12  \n",
       "2        12  \n",
       "3        12  \n",
       "4        12  \n",
       "...     ...  \n",
       "2768      3  \n",
       "2769      3  \n",
       "2770      3  \n",
       "2771      3  \n",
       "2772      3  \n",
       "\n",
       "[2773 rows x 12 columns]"
      ]
     },
     "execution_count": 26,
     "metadata": {},
     "output_type": "execute_result"
    }
   ],
   "source": [
    "# Formatting date\n",
    "df1['Date']=pd.to_datetime(df1['Month/Yr'],dayfirst=True)\n",
    "df1['year'], df1['month'] = df1['Date'].dt.year, df1['Date'].dt.month\n",
    "df.drop(columns=\"Month/Yr\",axis=1,inplace=True)\n",
    "df1"
   ]
  },
  {
   "cell_type": "markdown",
   "id": "67dd2126",
   "metadata": {},
   "source": [
    "# Determining the Pie sales during each month"
   ]
  },
  {
   "cell_type": "code",
   "execution_count": 27,
   "id": "d94a3f2c",
   "metadata": {
    "scrolled": false
   },
   "outputs": [],
   "source": [
    "b=df[\"month\"].value_counts()\n",
    "b.sort_index(axis=0,ascending=True, inplace=True)\n",
    "keys=b.keys().to_list()\n",
    "counts1=b.to_list()\n",
    "Month=['Jan','Feb','Mar','Apr','May','Jun','Jul','Aug','Sept','Oct','Nov','Dec']\n"
   ]
  },
  {
   "cell_type": "code",
   "execution_count": 28,
   "id": "d63766aa",
   "metadata": {
    "scrolled": false
   },
   "outputs": [
    {
     "data": {
      "text/plain": [
       "([<matplotlib.patches.Wedge at 0x1bb78d9bb50>,\n",
       "  <matplotlib.patches.Wedge at 0x1bb78dab2b0>,\n",
       "  <matplotlib.patches.Wedge at 0x1bb78dab940>,\n",
       "  <matplotlib.patches.Wedge at 0x1bb78dabfd0>,\n",
       "  <matplotlib.patches.Wedge at 0x1bb78db76a0>,\n",
       "  <matplotlib.patches.Wedge at 0x1bb78db7d30>,\n",
       "  <matplotlib.patches.Wedge at 0x1bb78dc5400>,\n",
       "  <matplotlib.patches.Wedge at 0x1bb78dc5a90>,\n",
       "  <matplotlib.patches.Wedge at 0x1bb78dd3160>,\n",
       "  <matplotlib.patches.Wedge at 0x1bb78dd37f0>,\n",
       "  <matplotlib.patches.Wedge at 0x1bb78d84730>,\n",
       "  <matplotlib.patches.Wedge at 0x1bb78de0550>],\n",
       " [Text(1.0786963338531697, 0.21543959555228337, 'Jan'),\n",
       "  Text(1.0052059532944688, 0.6554090260755937, 'Feb'),\n",
       "  Text(0.5033273668607761, 0.9780907737878923, 'Mar'),\n",
       "  Text(-0.35163325712974347, 1.147324737151748, 'Apr'),\n",
       "  Text(-0.905472811817623, 0.6245950584651528, 'May'),\n",
       "  Text(-1.17909481195062, 0.22301440408891254, 'Jun'),\n",
       "  Text(-1.0427610157794658, -0.3502134548679946, 'Jul'),\n",
       "  Text(-0.7757910886046926, -0.915504334692931, 'Aug'),\n",
       "  Text(-0.32709316320986476, -1.0502428588575907, 'Sept'),\n",
       "  Text(0.23035710617880784, -1.1776823016556401, 'Oct'),\n",
       "  Text(0.8323253362916515, -0.7191901935976251, 'Nov'),\n",
       "  Text(1.1805835155857367, -0.2149943318490576, 'Dec')],\n",
       " [Text(0.5883798184653652, 0.11751250666488182, '6.3%'),\n",
       "  Text(0.5863701394217735, 0.3823219318774296, '5.8%'),\n",
       "  Text(0.2745422001058778, 0.5335040584297593, '10.6%'),\n",
       "  Text(-0.20511939999235032, 0.6692727633385196, '14.0%'),\n",
       "  Text(-0.49389426099143063, 0.3406882137082652, '7.4%'),\n",
       "  Text(-0.6878053069711948, 0.13009173571853233, '5.9%'),\n",
       "  Text(-0.5687787358797086, -0.19102552083708793, '10.3%'),\n",
       "  Text(-0.45254480168607064, -0.534044195237543, '7.0%'),\n",
       "  Text(-0.1784144526599262, -0.5728597411950493, '5.8%'),\n",
       "  Text(0.13437497860430458, -0.6869813426324566, '10.0%'),\n",
       "  Text(0.4539956379772644, -0.3922855601441591, '11.2%'),\n",
       "  Text(0.688673717425013, -0.1254133602452836, '5.7%')])"
      ]
     },
     "execution_count": 28,
     "metadata": {},
     "output_type": "execute_result"
    },
    {
     "data": {
      "image/png": "[encoded data removed]",
      "text/plain": [
       "<Figure size 720x504 with 1 Axes>"
      ]
     },
     "metadata": {},
     "output_type": "display_data"
    }
   ],
   "source": [
    "myexplode = [0,0.1,0, 0.1,0, 0.1,0, 0.1,0,0.1,0,0.1]\n",
    "fig = plt.figure(figsize =(10, 7))\n",
    "plt.pie(x=counts1,data=df,labels =Month,explode=myexplode,autopct='%1.1f%%')"
   ]
  },
  {
   "cell_type": "markdown",
   "id": "ea665709",
   "metadata": {},
   "source": [
    "#### we can infer that more sales are done during the month of April"
   ]
  },
  {
   "cell_type": "code",
   "execution_count": 29,
   "id": "fa1358e6",
   "metadata": {
    "scrolled": true
   },
   "outputs": [
    {
     "data": {
      "text/plain": [
       "year\n",
       "2021    1314\n",
       "2020    1117\n",
       "2019     342\n",
       "dtype: int64"
      ]
     },
     "execution_count": 29,
     "metadata": {},
     "output_type": "execute_result"
    }
   ],
   "source": [
    "df.value_counts(\"year\")"
   ]
  },
  {
   "cell_type": "markdown",
   "id": "c4ff826a",
   "metadata": {},
   "source": [
    " There is a drastic increase of  226.608%  in sales during the year 2020 \n",
    "  and  increase of  17.6%  during the year 2021"
   ]
  },
  {
   "cell_type": "code",
   "execution_count": 30,
   "id": "392df004",
   "metadata": {
    "scrolled": true
   },
   "outputs": [
    {
     "data": {
      "text/plain": [
       "<AxesSubplot:xlabel='year', ylabel='count'>"
      ]
     },
     "execution_count": 30,
     "metadata": {},
     "output_type": "execute_result"
    },
    {
     "data": {
      "image/png": "[encoded data removed]",
      "text/plain": [
       "<Figure size 432x288 with 1 Axes>"
      ]
     },
     "metadata": {},
     "output_type": "display_data"
    }
   ],
   "source": [
    "sns.countplot(x=\"year\",data=df,palette=\"Set3\")"
   ]
  }
 ],
 "metadata": {
  "kernelspec": {
   "display_name": "Python 3",
   "language": "python",
   "name": "python3"
  },
  "language_info": {
   "codemirror_mode": {
    "name": "ipython",
    "version": 3
   },
   "file_extension": ".py",
   "mimetype": "text/x-python",
   "name": "python",
   "nbconvert_exporter": "python",
   "pygments_lexer": "ipython3",
   "version": "3.8.8"
  }
 },
 "nbformat": 4,
 "nbformat_minor": 5
}
